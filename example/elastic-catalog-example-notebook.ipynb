{
 "cells": [
  {
   "cell_type": "markdown",
   "id": "1bf5e05a-234d-43a2-9144-30100f8ed1b8",
   "metadata": {
    "execution": {
     "iopub.execute_input": "2022-12-20T10:26:07.345430Z",
     "iopub.status.busy": "2022-12-20T10:26:07.345208Z",
     "iopub.status.idle": "2022-12-20T10:26:07.348416Z",
     "shell.execute_reply": "2022-12-20T10:26:07.347741Z",
     "shell.execute_reply.started": "2022-12-20T10:26:07.345407Z"
    }
   },
   "source": [
    "# Elastic catalog example"
   ]
  },
  {
   "cell_type": "markdown",
   "id": "84a7c877-d3b5-4c9f-a075-2f3db2ffbdbc",
   "metadata": {
    "execution": {
     "iopub.execute_input": "2022-12-19T11:57:50.196609Z",
     "iopub.status.busy": "2022-12-19T11:57:50.196371Z",
     "iopub.status.idle": "2022-12-19T11:57:50.201724Z",
     "shell.execute_reply": "2022-12-19T11:57:50.200787Z",
     "shell.execute_reply.started": "2022-12-19T11:57:50.196582Z"
    },
    "tags": []
   },
   "source": [
    "## Load streaming-jupyter-integrations extension\n",
    "We need to load the module that enables us to run Flink commands.\n",
    "We set the execution mode to batch and set execution-target to yarn-session."
   ]
  },
  {
   "cell_type": "code",
   "execution_count": null,
   "id": "c77eb1ef-dfa7-4169-9542-4b33186ca7df",
   "metadata": {
    "tags": []
   },
   "outputs": [],
   "source": [
    "%reload_ext streaming_jupyter_integrations.magics"
   ]
  },
  {
   "cell_type": "markdown",
   "id": "3bcfd428-0b72-48dd-9d39-197e27a9a39f",
   "metadata": {},
   "source": [
    "## Connect to Flink cluster\n",
    "In order to execute Flink queries efficiently, we need to connect to a standalone Flink Session Cluster. "
   ]
  },
  {
   "cell_type": "code",
   "execution_count": null,
   "id": "d8396067-4024-4258-bd56-637198db5ecd",
   "metadata": {
    "tags": []
   },
   "outputs": [],
   "source": [
    "%flink_connect \\\n",
    "    --execution-mode batch \\\n",
    "    --execution-target remote \\\n",
    "    --remote-host jobmanager \\\n",
    "    --remote-port 8081"
   ]
  },
  {
   "cell_type": "markdown",
   "id": "e72c890a-b72a-4152-a87a-b23b8a3ed911",
   "metadata": {},
   "source": [
    "## Connect to Elastic\n",
    "Flink's Catalog allows to automatically read existing schema of the target database. Below you can find Flink Elastic Catalog definition, which connects to the DEV Elastic cluster."
   ]
  },
  {
   "cell_type": "code",
   "execution_count": null,
   "id": "ab066b4a-5632-498d-a5c9-1a37962ef468",
   "metadata": {
    "tags": []
   },
   "outputs": [],
   "source": [
    "%%flink_execute_sql\n",
    "CREATE CATALOG elastic_catalog WITH(\n",
    "    'type' = 'elasticsearch',\n",
    "    'default-database' = 'docker-cluster',\n",
    "    'username' = 'elastic',\n",
    "    'password' = 'passwd',\n",
    "    'base-url' = 'jdbc:elasticsearch://http://elasticsearch:9200'\n",
    ");"
   ]
  },
  {
   "cell_type": "markdown",
   "id": "93bacc16",
   "metadata": {},
   "source": [
    "## Explore schemas\n",
    "Using `%flink_show_table_tree` you can easily explore schema of the registered tables."
   ]
  },
  {
   "cell_type": "code",
   "execution_count": null,
   "id": "29ee82b3",
   "metadata": {},
   "outputs": [],
   "source": [
    "%flink_show_table_tree"
   ]
  },
  {
   "cell_type": "markdown",
   "id": "d45859cf-30ba-485b-95ad-7d6dcdf7e701",
   "metadata": {
    "execution": {
     "iopub.execute_input": "2022-12-20T10:19:59.703825Z",
     "iopub.status.busy": "2022-12-20T10:19:59.703602Z",
     "iopub.status.idle": "2022-12-20T10:19:59.707012Z",
     "shell.execute_reply": "2022-12-20T10:19:59.706315Z",
     "shell.execute_reply.started": "2022-12-20T10:19:59.703802Z"
    }
   },
   "source": [
    "### Query table\n",
    "If any of the identifiers (column name, table name, etc) contains special characters, enclose the identifier with backticks.\n",
    "\n",
    "Depending on the query complexity, it may take from a few seconds up to a several minutes."
   ]
  },
  {
   "cell_type": "code",
   "execution_count": null,
   "id": "5f93b03c-ddce-499b-a165-222caff17932",
   "metadata": {
    "tags": []
   },
   "outputs": [],
   "source": [
    "%%flink_execute_sql\n",
    "SELECT\n",
    "    *\n",
    "FROM\n",
    "    elastic_catalog.`docker-cluster`.`test_index`"
   ]
  },
  {
   "cell_type": "code",
   "execution_count": null,
   "id": "63e677db",
   "metadata": {},
   "outputs": [],
   "source": []
  }
 ],
 "metadata": {
  "kernelspec": {
   "display_name": "Python 3",
   "language": "python",
   "name": "python3"
  },
  "language_info": {
   "codemirror_mode": {
    "name": "ipython",
    "version": 3
   },
   "file_extension": ".py",
   "mimetype": "text/x-python",
   "name": "python",
   "nbconvert_exporter": "python",
   "pygments_lexer": "ipython3",
   "version": "3.8.8"
  }
 },
 "nbformat": 4,
 "nbformat_minor": 5
}